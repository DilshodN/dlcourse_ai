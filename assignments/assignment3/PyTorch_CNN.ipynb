{
 "cells": [
  {
   "cell_type": "markdown",
   "metadata": {
    "id": "PZNvXWpx4vBe"
   },
   "source": [
    "# Задание 3.2 - сверточные нейронные сети (CNNs) в PyTorch\n",
    "\n",
    "Это упражнение мы буде выполнять в Google Colab - https://colab.research.google.com/  \n",
    "Google Colab позволяет запускать код в notebook в облаке Google, где можно воспользоваться бесплатным GPU!  \n",
    "\n",
    "Авторы курса благодарят компанию Google и надеятся, что праздник не закончится.\n",
    "\n",
    "Туториал по настройке Google Colab:  \n",
    "https://medium.com/deep-learning-turkey/google-colab-free-gpu-tutorial-e113627b9f5d  \n",
    "(Keras инсталлировать не нужно, наш notebook сам установит PyTorch)\n"
   ]
  },
  {
   "cell_type": "code",
   "execution_count": 1,
   "metadata": {
    "colab": {
     "base_uri": "https://localhost:8080/"
    },
    "executionInfo": {
     "elapsed": 16718,
     "status": "ok",
     "timestamp": 1648896479600,
     "user": {
      "displayName": "Dilshod Nozimov",
      "userId": "03283839926136605754"
     },
     "user_tz": -420
    },
    "id": "FcXBeP1O7cnY",
    "outputId": "726929b7-fed2-44b7-fdd7-ff9d19bc165e"
   },
   "outputs": [
    {
     "name": "stdout",
     "output_type": "stream",
     "text": [
      "Requirement already satisfied: torch in /usr/local/lib/python3.7/dist-packages (1.10.0+cu111)\n",
      "Requirement already satisfied: torchvision in /usr/local/lib/python3.7/dist-packages (0.11.1+cu111)\n",
      "Requirement already satisfied: typing-extensions in /usr/local/lib/python3.7/dist-packages (from torch) (3.10.0.2)\n",
      "Requirement already satisfied: pillow!=8.3.0,>=5.3.0 in /usr/local/lib/python3.7/dist-packages (from torchvision) (7.1.2)\n",
      "Requirement already satisfied: numpy in /usr/local/lib/python3.7/dist-packages (from torchvision) (1.21.5)\n",
      "--2022-04-02 10:47:46--  http://ufldl.stanford.edu/housenumbers/train_32x32.mat\n",
      "Resolving ufldl.stanford.edu (ufldl.stanford.edu)... 171.64.68.10\n",
      "Connecting to ufldl.stanford.edu (ufldl.stanford.edu)|171.64.68.10|:80... connected.\n",
      "HTTP request sent, awaiting response... 200 OK\n",
      "Length: 182040794 (174M) [text/plain]\n",
      "Saving to: ‘train_32x32.mat’\n",
      "\n",
      "train_32x32.mat     100%[===================>] 173.61M  20.3MB/s    in 9.5s    \n",
      "\n",
      "2022-04-02 10:47:56 (18.2 MB/s) - ‘train_32x32.mat’ saved [182040794/182040794]\n",
      "\n",
      "--2022-04-02 10:47:56--  http://ufldl.stanford.edu/housenumbers/test_32x32.mat\n",
      "Reusing existing connection to ufldl.stanford.edu:80.\n",
      "HTTP request sent, awaiting response... 200 OK\n",
      "Length: 64275384 (61M) [text/plain]\n",
      "Saving to: ‘test_32x32.mat’\n",
      "\n",
      "test_32x32.mat      100%[===================>]  61.30M  19.5MB/s    in 3.1s    \n",
      "\n",
      "2022-04-02 10:47:59 (19.5 MB/s) - ‘test_32x32.mat’ saved [64275384/64275384]\n",
      "\n",
      "FINISHED --2022-04-02 10:47:59--\n",
      "Total wall clock time: 13s\n",
      "Downloaded: 2 files, 235M in 13s (18.5 MB/s)\n"
     ]
    }
   ],
   "source": [
    "# Intstall PyTorch and download data\n",
    "!pip3 install torch torchvision\n",
    "\n",
    "!wget -c http://ufldl.stanford.edu/housenumbers/train_32x32.mat http://ufldl.stanford.edu/housenumbers/test_32x32.mat"
   ]
  },
  {
   "cell_type": "code",
   "execution_count": 2,
   "metadata": {
    "executionInfo": {
     "elapsed": 6030,
     "status": "ok",
     "timestamp": 1648896495878,
     "user": {
      "displayName": "Dilshod Nozimov",
      "userId": "03283839926136605754"
     },
     "user_tz": -420
    },
    "id": "-afwWw-Q85vD"
   },
   "outputs": [],
   "source": [
    "from collections import namedtuple\n",
    "\n",
    "import matplotlib.pyplot as plt\n",
    "import numpy as np\n",
    "import PIL\n",
    "import torch\n",
    "import torch.nn as nn\n",
    "import torch.optim as optim\n",
    "import torchvision.datasets as dset\n",
    "from torch.utils.data.sampler import SubsetRandomSampler\n",
    "\n",
    "from torchvision import transforms"
   ]
  },
  {
   "cell_type": "code",
   "execution_count": 3,
   "metadata": {
    "executionInfo": {
     "elapsed": 432,
     "status": "ok",
     "timestamp": 1648896511218,
     "user": {
      "displayName": "Dilshod Nozimov",
      "userId": "03283839926136605754"
     },
     "user_tz": -420
    },
    "id": "NNU-OD9O9ltP"
   },
   "outputs": [],
   "source": [
    "device = torch.device(\"cuda:0\") # Let's make sure GPU is available!"
   ]
  },
  {
   "cell_type": "markdown",
   "metadata": {
    "id": "XqWWZ0ed4vBl"
   },
   "source": [
    "# Загружаем данные"
   ]
  },
  {
   "cell_type": "code",
   "execution_count": 4,
   "metadata": {
    "executionInfo": {
     "elapsed": 3329,
     "status": "ok",
     "timestamp": 1648896516495,
     "user": {
      "displayName": "Dilshod Nozimov",
      "userId": "03283839926136605754"
     },
     "user_tz": -420
    },
    "id": "YAvkoRx-9FsP"
   },
   "outputs": [],
   "source": [
    "# First, lets load the dataset\n",
    "data_train = dset.SVHN('./', \n",
    "                       transform=transforms.Compose([\n",
    "                           transforms.ToTensor(),\n",
    "                           transforms.Normalize(mean=[0.43,0.44,0.47],\n",
    "                                               std=[0.20,0.20,0.20])                           \n",
    "                       ])\n",
    "                      )\n",
    "data_test = dset.SVHN('./', split='test', transform=transforms.Compose([\n",
    "                           transforms.ToTensor(),\n",
    "                           transforms.Normalize(mean=[0.43,0.44,0.47],\n",
    "                                               std=[0.20,0.20,0.20])                           \n",
    "                       ]))"
   ]
  },
  {
   "cell_type": "markdown",
   "metadata": {
    "id": "nvDvkIIo4vBn"
   },
   "source": [
    "Разделяем данные на training и validation.\n",
    "\n",
    "На всякий случай для подробностей - https://pytorch.org/tutorials/beginner/data_loading_tutorial.html"
   ]
  },
  {
   "cell_type": "code",
   "execution_count": 5,
   "metadata": {
    "executionInfo": {
     "elapsed": 7,
     "status": "ok",
     "timestamp": 1648896516496,
     "user": {
      "displayName": "Dilshod Nozimov",
      "userId": "03283839926136605754"
     },
     "user_tz": -420
    },
    "id": "YRnr8CPg7Hli"
   },
   "outputs": [],
   "source": [
    "batch_size = 64\n",
    "\n",
    "data_size = data_train.data.shape[0]\n",
    "validation_split = .2\n",
    "split = int(np.floor(validation_split * data_size))\n",
    "indices = list(range(data_size))\n",
    "np.random.shuffle(indices)\n",
    "\n",
    "train_indices, val_indices = indices[split:], indices[:split]\n",
    "\n",
    "train_sampler = SubsetRandomSampler(train_indices)\n",
    "val_sampler = SubsetRandomSampler(val_indices)\n",
    "\n",
    "train_loader = torch.utils.data.DataLoader(data_train, batch_size=batch_size, \n",
    "                                           sampler=train_sampler)\n",
    "val_loader = torch.utils.data.DataLoader(data_train, batch_size=batch_size,\n",
    "                                         sampler=val_sampler)"
   ]
  },
  {
   "cell_type": "code",
   "execution_count": 6,
   "metadata": {
    "executionInfo": {
     "elapsed": 5,
     "status": "ok",
     "timestamp": 1648896518331,
     "user": {
      "displayName": "Dilshod Nozimov",
      "userId": "03283839926136605754"
     },
     "user_tz": -420
    },
    "id": "LyYvt-T67PBG"
   },
   "outputs": [],
   "source": [
    "# We'll use a special helper module to shape it into a flat tensor\n",
    "class Flattener(nn.Module):\n",
    "    def forward(self, x):\n",
    "        batch_size, *_ = x.shape\n",
    "        return x.view(batch_size, -1)"
   ]
  },
  {
   "cell_type": "markdown",
   "metadata": {
    "id": "HdJmaUGu4vBq"
   },
   "source": [
    "Создадим простейшую сеть с новыми слоями:  \n",
    "Convolutional - `nn.Conv2d`  \n",
    "MaxPool - `nn.MaxPool2d`"
   ]
  },
  {
   "cell_type": "code",
   "execution_count": 7,
   "metadata": {
    "executionInfo": {
     "elapsed": 10305,
     "status": "ok",
     "timestamp": 1648896531272,
     "user": {
      "displayName": "Dilshod Nozimov",
      "userId": "03283839926136605754"
     },
     "user_tz": -420
    },
    "id": "w9SFVGZP7SQd"
   },
   "outputs": [],
   "source": [
    "nn_model = nn.Sequential(\n",
    "            nn.Conv2d(3, 64, 3, padding=1),\n",
    "            nn.ReLU(inplace=True),\n",
    "            nn.MaxPool2d(4),\n",
    "            nn.Conv2d(64, 64, 3, padding=1),\n",
    "            nn.ReLU(inplace=True),\n",
    "            nn.MaxPool2d(4),    \n",
    "            Flattener(),\n",
    "            nn.Linear(64*2*2, 10),\n",
    "          )\n",
    "\n",
    "nn_model.type(torch.cuda.FloatTensor)\n",
    "nn_model.to(device)\n",
    "\n",
    "loss = nn.CrossEntropyLoss().type(torch.cuda.FloatTensor)\n",
    "optimizer = optim.SGD(nn_model.parameters(), lr=1e-1, weight_decay=1e-4)"
   ]
  },
  {
   "cell_type": "markdown",
   "metadata": {
    "id": "AVyw8MJe4vBs"
   },
   "source": [
    "Восстановите функцию `compute_accuracy` из прошлого задания.  \n",
    "Единственное отличие в новом - она должна передать данные на GPU прежде чем прогонять через модель. Сделайте это так же, как это делает функция `train_model`"
   ]
  },
  {
   "cell_type": "code",
   "execution_count": 8,
   "metadata": {
    "executionInfo": {
     "elapsed": 377,
     "status": "ok",
     "timestamp": 1648896605437,
     "user": {
      "displayName": "Dilshod Nozimov",
      "userId": "03283839926136605754"
     },
     "user_tz": -420
    },
    "id": "2ek3KVQK7hJ6"
   },
   "outputs": [],
   "source": [
    "def train_model(model, train_loader, val_loader, loss, optimizer, num_epochs, sheduler = None):    \n",
    "    loss_history = []\n",
    "    train_history = []\n",
    "    val_history = []\n",
    "    for epoch in range(num_epochs):\n",
    "        model.train() # Enter train mode\n",
    "        \n",
    "        loss_accum = 0\n",
    "        correct_samples = 0\n",
    "        total_samples = 0\n",
    "        for i_step, (x, y) in enumerate(train_loader):\n",
    "          \n",
    "            x_gpu = x.to(device)\n",
    "            y_gpu = y.to(device)\n",
    "            prediction = model(x_gpu)    \n",
    "            loss_value = loss(prediction, y_gpu)\n",
    "            optimizer.zero_grad()\n",
    "            loss_value.backward()\n",
    "            optimizer.step()\n",
    "            \n",
    "            _, indices = torch.max(prediction, 1)\n",
    "            correct_samples += torch.sum(indices == y_gpu)\n",
    "            total_samples += y.shape[0]\n",
    "            \n",
    "            loss_accum += loss_value\n",
    "\n",
    "        ave_loss = loss_accum / i_step\n",
    "        train_accuracy = float(correct_samples) / total_samples\n",
    "        val_accuracy = compute_accuracy(model, val_loader)\n",
    "\n",
    "        if not sheduler is None:\n",
    "            sheduler.step(val_accuracy)\n",
    "\n",
    "        loss_history.append(float(ave_loss))\n",
    "        train_history.append(train_accuracy)\n",
    "        val_history.append(val_accuracy)\n",
    "        \n",
    "        print(\"Average loss: %f, Train accuracy: %f, Val accuracy: %f\" % (ave_loss, train_accuracy, val_accuracy))\n",
    "        \n",
    "    return loss_history, train_history, val_history\n",
    "        \n",
    "def compute_accuracy(model, loader):\n",
    "    \"\"\"\n",
    "    Computes accuracy on the dataset wrapped in a loader\n",
    "    \n",
    "    Returns: accuracy as a float value between 0 and 1\n",
    "    \"\"\"\n",
    "    model.eval() # Evaluation mode\n",
    "    correct_samples = 0\n",
    "    total_samples = 0\n",
    "\n",
    "    for x, y in loader:\n",
    "        x_gpu = x.to(device)\n",
    "        y_gpu = y.to(device)\n",
    "        prediction = model(x_gpu)  \n",
    "        _, indices = torch.max(prediction, 1)\n",
    "        correct_samples += torch.sum(indices == y_gpu)\n",
    "        total_samples += y.shape[0]\n",
    "    \n",
    "    return float(correct_samples) / total_samples\n",
    "\n"
   ]
  },
  {
   "cell_type": "code",
   "execution_count": 9,
   "metadata": {
    "colab": {
     "base_uri": "https://localhost:8080/"
    },
    "executionInfo": {
     "elapsed": 74980,
     "status": "ok",
     "timestamp": 1648896685490,
     "user": {
      "displayName": "Dilshod Nozimov",
      "userId": "03283839926136605754"
     },
     "user_tz": -420
    },
    "id": "VnawsmY05Yh4",
    "outputId": "8889f56a-5afb-4382-8b22-9e199d62eb04"
   },
   "outputs": [
    {
     "name": "stdout",
     "output_type": "stream",
     "text": [
      "Average loss: 1.401596, Train accuracy: 0.530714, Val accuracy: 0.734694\n",
      "Average loss: 0.700787, Train accuracy: 0.786950, Val accuracy: 0.794280\n",
      "Average loss: 0.601716, Train accuracy: 0.818909, Val accuracy: 0.832571\n",
      "Average loss: 0.554854, Train accuracy: 0.833515, Val accuracy: 0.827657\n",
      "Average loss: 0.517393, Train accuracy: 0.846688, Val accuracy: 0.839260\n"
     ]
    }
   ],
   "source": [
    "loss_history, train_history, val_history = train_model(nn_model, train_loader, val_loader, loss, optimizer, 5)"
   ]
  },
  {
   "cell_type": "markdown",
   "metadata": {
    "id": "6a-3a1ZFGEw_"
   },
   "source": [
    "# Аугментация данных (Data augmentation)\n",
    "\n",
    "В работе с изображениями одним из особенно важных методов является аугментация данных - то есть, генерация дополнительных данных для тренировки на основе изначальных.   \n",
    "Таким образом, мы получаем возможность \"увеличить\" набор данных для тренировки, что ведет к лучшей работе сети.\n",
    "Важно, чтобы аугментированные данные были похожи на те, которые могут встретиться в реальной жизни, иначе польза от аугментаций уменьшается и может ухудшить работу сети.\n",
    "\n",
    "С PyTorch идут несколько таких алгоритмов, называемых `transforms`. Более подробно про них можно прочитать тут -\n",
    "https://pytorch.org/tutorials/beginner/data_loading_tutorial.html#transforms\n",
    "\n",
    "Ниже мы используем следующие алгоритмы генерации:\n",
    "- ColorJitter - случайное изменение цвета\n",
    "- RandomHorizontalFlip - горизонтальное отражение с вероятностью 50%\n",
    "- RandomVerticalFlip - вертикальное отражение с вероятностью 50%\n",
    "- RandomRotation - случайный поворот"
   ]
  },
  {
   "cell_type": "code",
   "execution_count": 10,
   "metadata": {
    "colab": {
     "base_uri": "https://localhost:8080/"
    },
    "executionInfo": {
     "elapsed": 2005,
     "status": "ok",
     "timestamp": 1648896687488,
     "user": {
      "displayName": "Dilshod Nozimov",
      "userId": "03283839926136605754"
     },
     "user_tz": -420
    },
    "id": "jCWMUWmr7t5g",
    "outputId": "47062226-f58f-4408-dabf-7d0864da0f92"
   },
   "outputs": [
    {
     "name": "stderr",
     "output_type": "stream",
     "text": [
      "/usr/local/lib/python3.7/dist-packages/torchvision/transforms/transforms.py:1249: UserWarning: Argument resample is deprecated and will be removed since v0.10.0. Please, use interpolation instead\n",
      "  \"Argument resample is deprecated and will be removed since v0.10.0. Please, use interpolation instead\"\n"
     ]
    }
   ],
   "source": [
    "tfs = transforms.Compose([\n",
    "    transforms.ColorJitter(hue=.50, saturation=.50),\n",
    "    transforms.RandomHorizontalFlip(),\n",
    "    transforms.RandomVerticalFlip(),\n",
    "    transforms.RandomRotation(50, resample=PIL.Image.BILINEAR),\n",
    "    transforms.ToTensor(),\n",
    "    transforms.Normalize(mean=[0.43,0.44,0.47],\n",
    "                       std=[0.20,0.20,0.20])                           \n",
    "])\n",
    "\n",
    "# Create augmented train dataset\n",
    "data_aug_train = dset.SVHN('./', \n",
    "                       transform=tfs\n",
    "                      )\n",
    "\n",
    "train_aug_loader = torch.utils.data.DataLoader(data_aug_train, batch_size=batch_size, \n",
    "                                           sampler=train_sampler)"
   ]
  },
  {
   "cell_type": "markdown",
   "metadata": {
    "id": "mfHHto-h4vBx"
   },
   "source": [
    "Визуализируем результаты агментации (вообще, смотреть на сгенерированные данные всегда очень полезно)."
   ]
  },
  {
   "cell_type": "code",
   "execution_count": 11,
   "metadata": {
    "colab": {
     "base_uri": "https://localhost:8080/",
     "height": 124
    },
    "executionInfo": {
     "elapsed": 2540,
     "status": "ok",
     "timestamp": 1648896717577,
     "user": {
      "displayName": "Dilshod Nozimov",
      "userId": "03283839926136605754"
     },
     "user_tz": -420
    },
    "id": "YlJJEro1KZ45",
    "outputId": "191cbed6-ebf6-41b4-f8ab-c14333ea395a"
   },
   "outputs": [
    {
     "data": {
      "image/png": "[encoded data removed]",
      "text/plain": [
       "<Figure size 2160x216 with 10 Axes>"
      ]
     },
     "metadata": {
      "needs_background": "light"
     },
     "output_type": "display_data"
    }
   ],
   "source": [
    "# TODO: Visualize some augmented images!\n",
    "# hint: you can create new datasets and loaders to accomplish this\n",
    "\n",
    "# Based on the visualizations, should we keep all the augmentations?\n",
    "\n",
    "tfs = transforms.Compose([\n",
    "    transforms.ColorJitter(hue=.20, saturation=.20),\n",
    "    transforms.RandomHorizontalFlip(),\n",
    "    transforms.RandomVerticalFlip(),\n",
    "    transforms.RandomRotation(10, interpolation=transforms.InterpolationMode.BILINEAR),\n",
    "])\n",
    "\n",
    "data_aug_vis = dset.SVHN('./', transform=tfs)\n",
    "\n",
    "plt.figure(figsize=(30, 3))\n",
    "\n",
    "for i, (x, y) in enumerate(data_aug_vis):\n",
    "    if i == 10:\n",
    "        break\n",
    "    plt.subplot(1, 10, i+1)\n",
    "    plt.grid(False)\n",
    "    plt.imshow(x)\n",
    "    plt.axis('off')"
   ]
  },
  {
   "cell_type": "markdown",
   "metadata": {
    "id": "o2LrmsYHoguB"
   },
   "source": [
    "Все ли агментации одинаково полезны на этом наборе данных? Могут ли быть среди них те, которые собьют модель с толку?\n",
    "\n",
    "Выберите из них только корректные"
   ]
  },
  {
   "cell_type": "code",
   "execution_count": 12,
   "metadata": {
    "executionInfo": {
     "elapsed": 2316,
     "status": "ok",
     "timestamp": 1648896731157,
     "user": {
      "displayName": "Dilshod Nozimov",
      "userId": "03283839926136605754"
     },
     "user_tz": -420
    },
    "id": "evro9ksXGs9u"
   },
   "outputs": [],
   "source": [
    "# TODO: \n",
    "tfs = transforms.Compose([\n",
    "    transforms.ColorJitter(hue=.20, saturation=.20),\n",
    "    transforms.RandomRotation(15, interpolation=transforms.InterpolationMode.BILINEAR),\n",
    "    transforms.ToTensor(),\n",
    "    transforms.Normalize(mean=[0.43,0.44,0.47],\n",
    "                       std=[0.20,0.20,0.20])                           \n",
    "])\n",
    "\n",
    "data_aug_train = dset.SVHN('./', transform=tfs)\n",
    "\n",
    "train_aug_loader = torch.utils.data.DataLoader(data_aug_train, batch_size=batch_size, \n",
    "                                           sampler=train_sampler)"
   ]
  },
  {
   "cell_type": "code",
   "execution_count": 13,
   "metadata": {
    "colab": {
     "base_uri": "https://localhost:8080/"
    },
    "executionInfo": {
     "elapsed": 223241,
     "status": "ok",
     "timestamp": 1648896957883,
     "user": {
      "displayName": "Dilshod Nozimov",
      "userId": "03283839926136605754"
     },
     "user_tz": -420
    },
    "id": "PeO6Zw0DHqPR",
    "outputId": "c07889ff-7099-4fcf-cfbb-e6fa25369a4c"
   },
   "outputs": [
    {
     "name": "stdout",
     "output_type": "stream",
     "text": [
      "Average loss: 0.665538, Train accuracy: 0.794509, Val accuracy: 0.840693\n",
      "Average loss: 0.607229, Train accuracy: 0.813654, Val accuracy: 0.844652\n",
      "Average loss: 0.580849, Train accuracy: 0.822049, Val accuracy: 0.844174\n",
      "Average loss: 0.560207, Train accuracy: 0.828942, Val accuracy: 0.842332\n",
      "Average loss: 0.541970, Train accuracy: 0.834147, Val accuracy: 0.860214\n"
     ]
    }
   ],
   "source": [
    "# Finally, let's train with augmentations!\n",
    "\n",
    "# Note we shouldn't use augmentations on validation\n",
    "\n",
    "loss_history, train_history, val_history = train_model(nn_model, train_aug_loader, val_loader, loss, optimizer, 5)"
   ]
  },
  {
   "cell_type": "markdown",
   "metadata": {
    "id": "r0bcioK6JBDK"
   },
   "source": [
    "# LeNet\n",
    "Попробуем имплементировать классическую архитектуру сверточной нейронной сети, предложенную Яном ЛеКуном в 1998 году. В свое время она достигла впечатляющих результатов на MNIST, посмотрим как она справится с SVHN?\n",
    "Она описана в статье [\"Gradient Based Learning Applied to Document Recognition\"](http://yann.lecun.com/exdb/publis/pdf/lecun-01a.pdf), попробуйте прочитать ключевые части и имплементировать предложенную архитетуру на PyTorch.\n",
    "\n",
    "Реализовывать слои и функцию ошибки LeNet, которых нет в PyTorch, **не нужно** - просто возьмите их размеры и переведите в уже известные нам Convolutional, Pooling и Fully Connected layers.\n",
    "\n",
    "Если в статье не очень понятно, можно просто погуглить LeNet и разобраться в деталях :)"
   ]
  },
  {
   "cell_type": "code",
   "execution_count": 15,
   "metadata": {
    "executionInfo": {
     "elapsed": 403,
     "status": "ok",
     "timestamp": 1648896977216,
     "user": {
      "displayName": "Dilshod Nozimov",
      "userId": "03283839926136605754"
     },
     "user_tz": -420
    },
    "id": "ieEzZUglJAUB"
   },
   "outputs": [],
   "source": [
    "# TODO: Implement LeNet-like architecture for SVHN task\n",
    "lenet_model = nn.Sequential(\n",
    "        nn.Conv2d(3, 6, 5),\n",
    "        nn.LeakyReLU(inplace=True),\n",
    "        nn.MaxPool2d(2),\n",
    "        nn.Conv2d(6, 16, 5),\n",
    "        nn.LeakyReLU(inplace=True),\n",
    "        nn.MaxPool2d(2),    \n",
    "        nn.Conv2d(16, 120, 5),\n",
    "        nn.LeakyReLU(inplace=True),\n",
    "        Flattener(),\n",
    "        nn.Linear(120, 84),\n",
    "        nn.LeakyReLU(inplace=True),\n",
    "        nn.Linear(84, 10)\n",
    ")\n",
    "\n",
    "lenet_model.type(torch.cuda.FloatTensor)\n",
    "lenet_model.to(device)\n",
    "\n",
    "loss = nn.CrossEntropyLoss().type(torch.cuda.FloatTensor)\n",
    "optimizer = optim.SGD(lenet_model.parameters(), lr=1e-1, weight_decay=1e-4)"
   ]
  },
  {
   "cell_type": "code",
   "execution_count": 16,
   "metadata": {
    "colab": {
     "base_uri": "https://localhost:8080/"
    },
    "executionInfo": {
     "elapsed": 441069,
     "status": "ok",
     "timestamp": 1648897422029,
     "user": {
      "displayName": "Dilshod Nozimov",
      "userId": "03283839926136605754"
     },
     "user_tz": -420
    },
    "id": "WMmaPfdeKk9H",
    "outputId": "db0e4a11-f697-40ff-a66d-97da86d7fc08"
   },
   "outputs": [
    {
     "name": "stdout",
     "output_type": "stream",
     "text": [
      "Average loss: 1.435073, Train accuracy: 0.509470, Val accuracy: 0.796464\n",
      "Average loss: 0.599031, Train accuracy: 0.818739, Val accuracy: 0.844994\n",
      "Average loss: 0.506266, Train accuracy: 0.847081, Val accuracy: 0.861375\n",
      "Average loss: 0.452622, Train accuracy: 0.861891, Val accuracy: 0.877210\n",
      "Average loss: 0.418361, Train accuracy: 0.876037, Val accuracy: 0.879599\n",
      "Average loss: 0.398200, Train accuracy: 0.879773, Val accuracy: 0.876527\n",
      "Average loss: 0.379105, Train accuracy: 0.886530, Val accuracy: 0.858986\n",
      "Average loss: 0.360091, Train accuracy: 0.892366, Val accuracy: 0.891611\n",
      "Average loss: 0.347409, Train accuracy: 0.896222, Val accuracy: 0.896048\n",
      "Average loss: 0.336130, Train accuracy: 0.898850, Val accuracy: 0.896935\n"
     ]
    }
   ],
   "source": [
    "# Let's train it!\n",
    "loss_history, train_history, val_history = train_model(lenet_model, train_aug_loader, val_loader, loss, optimizer, 10)"
   ]
  },
  {
   "cell_type": "markdown",
   "metadata": {
    "id": "u_O9qiYySvuj"
   },
   "source": [
    "# Подбор гиперпараметров"
   ]
  },
  {
   "cell_type": "code",
   "execution_count": 17,
   "metadata": {
    "colab": {
     "base_uri": "https://localhost:8080/"
    },
    "executionInfo": {
     "elapsed": 2078736,
     "status": "ok",
     "timestamp": 1648899514613,
     "user": {
      "displayName": "Dilshod Nozimov",
      "userId": "03283839926136605754"
     },
     "user_tz": -420
    },
    "id": "i6mhfdQ9K-N3",
    "outputId": "b37e38e8-83eb-4984-e1b7-353042c25c28"
   },
   "outputs": [
    {
     "name": "stderr",
     "output_type": "stream",
     "text": [
      "/usr/local/lib/python3.7/dist-packages/torch/optim/lr_scheduler.py:154: UserWarning: The epoch parameter in `scheduler.step()` was not necessary and is being deprecated where possible. Please use `scheduler.step()` to step the scheduler. During the deprecation, if epoch is different from None, the closed form is used instead of the new chainable form, where available. Please open an issue if you are unable to replicate your use case: https://github.com/pytorch/pytorch/issues/new/choose.\n",
      "  warnings.warn(EPOCH_DEPRECATION_WARNING, UserWarning)\n"
     ]
    },
    {
     "name": "stdout",
     "output_type": "stream",
     "text": [
      "Average loss: 1.258580, Train accuracy: 0.577535, Val accuracy: 0.828749\n",
      "Average loss: 0.598861, Train accuracy: 0.817886, Val accuracy: 0.853184\n",
      "Average loss: 0.511271, Train accuracy: 0.843429, Val accuracy: 0.870794\n",
      "Average loss: 0.467575, Train accuracy: 0.855476, Val accuracy: 0.794144\n",
      "Average loss: 0.435778, Train accuracy: 0.864826, Val accuracy: 0.877278\n",
      "Average loss: 0.412628, Train accuracy: 0.872829, Val accuracy: 0.875503\n",
      "Average loss: 1.260543, Train accuracy: 0.576323, Val accuracy: 0.813392\n",
      "Average loss: 0.599725, Train accuracy: 0.816623, Val accuracy: 0.846700\n",
      "Average loss: 0.512936, Train accuracy: 0.842149, Val accuracy: 0.875572\n",
      "Average loss: 0.468895, Train accuracy: 0.855117, Val accuracy: 0.876391\n",
      "Average loss: 0.441319, Train accuracy: 0.865577, Val accuracy: 0.871067\n",
      "Average loss: 0.418376, Train accuracy: 0.873494, Val accuracy: 0.884103\n",
      "Average loss: 1.322235, Train accuracy: 0.550882, Val accuracy: 0.808409\n",
      "Average loss: 0.636123, Train accuracy: 0.804713, Val accuracy: 0.848543\n",
      "Average loss: 0.533122, Train accuracy: 0.837406, Val accuracy: 0.865470\n",
      "Average loss: 0.482400, Train accuracy: 0.850988, Val accuracy: 0.869838\n",
      "Average loss: 0.450432, Train accuracy: 0.860902, Val accuracy: 0.878711\n",
      "Average loss: 0.424540, Train accuracy: 0.870099, Val accuracy: 0.880827\n",
      "Average loss: 1.330941, Train accuracy: 0.548664, Val accuracy: 0.808819\n",
      "Average loss: 0.612915, Train accuracy: 0.810975, Val accuracy: 0.850249\n",
      "Average loss: 0.522336, Train accuracy: 0.839812, Val accuracy: 0.863013\n",
      "Average loss: 0.478867, Train accuracy: 0.852268, Val accuracy: 0.879599\n",
      "Average loss: 0.448801, Train accuracy: 0.862574, Val accuracy: 0.875162\n",
      "Average loss: 0.420726, Train accuracy: 0.871139, Val accuracy: 0.867176\n",
      "Average loss: 2.248963, Train accuracy: 0.180169, Val accuracy: 0.192342\n",
      "Average loss: 2.212131, Train accuracy: 0.198614, Val accuracy: 0.235752\n",
      "Average loss: 1.986265, Train accuracy: 0.326366, Val accuracy: 0.446591\n",
      "Average loss: 1.380444, Train accuracy: 0.543562, Val accuracy: 0.678042\n",
      "Average loss: 0.987948, Train accuracy: 0.694673, Val accuracy: 0.765272\n",
      "Average loss: 0.801199, Train accuracy: 0.758455, Val accuracy: 0.809842\n",
      "Average loss: 2.246974, Train accuracy: 0.185715, Val accuracy: 0.193161\n",
      "Average loss: 2.209824, Train accuracy: 0.201345, Val accuracy: 0.240393\n",
      "Average loss: 1.951481, Train accuracy: 0.327253, Val accuracy: 0.464473\n",
      "Average loss: 1.325299, Train accuracy: 0.556854, Val accuracy: 0.680090\n",
      "Average loss: 0.954342, Train accuracy: 0.705883, Val accuracy: 0.773053\n",
      "Average loss: 0.776134, Train accuracy: 0.766389, Val accuracy: 0.813255\n",
      "Average loss: 2.244224, Train accuracy: 0.184623, Val accuracy: 0.192820\n",
      "Average loss: 2.183769, Train accuracy: 0.216565, Val accuracy: 0.302437\n",
      "Average loss: 1.796233, Train accuracy: 0.386855, Val accuracy: 0.521193\n",
      "Average loss: 1.222984, Train accuracy: 0.603931, Val accuracy: 0.717152\n",
      "Average loss: 0.908551, Train accuracy: 0.722110, Val accuracy: 0.786977\n",
      "Average loss: 0.751097, Train accuracy: 0.774528, Val accuracy: 0.813733\n",
      "Average loss: 2.244889, Train accuracy: 0.184350, Val accuracy: 0.195209\n",
      "Average loss: 2.158142, Train accuracy: 0.235351, Val accuracy: 0.302710\n",
      "Average loss: 1.790122, Train accuracy: 0.385114, Val accuracy: 0.500512\n",
      "Average loss: 1.327703, Train accuracy: 0.563287, Val accuracy: 0.691830\n",
      "Average loss: 0.981562, Train accuracy: 0.696720, Val accuracy: 0.766910\n",
      "Average loss: 0.804361, Train accuracy: 0.756783, Val accuracy: 0.802266\n"
     ]
    }
   ],
   "source": [
    "# The key hyperparameters we're going to tune are learning speed, annealing rate and regularization\n",
    "# We also encourage you to try different optimizers as well\n",
    "\n",
    "Hyperparams = namedtuple(\"Hyperparams\", ['learning_rate', 'anneal_epochs', 'reg'])\n",
    "RunResult = namedtuple(\"RunResult\", ['model', 'train_history', 'val_history', 'final_val_accuracy'])\n",
    "\n",
    "learning_rates = [1e-1, 1e-2]\n",
    "anneal_coeff = 0.2\n",
    "anneal_epochs = [2, 4]\n",
    "regs = [1e-4, 1e-5]\n",
    "\n",
    "batch_size = 64\n",
    "epoch_num = 6\n",
    "\n",
    "# Record all the runs here\n",
    "# Key should be Hyperparams and values should be RunResult\n",
    "run_record = {} \n",
    "\n",
    "# Use grid search or random search and record all runs in run_record dictionnary \n",
    "# Important: perform search in logarithmic space!\n",
    "\n",
    "# TODO: Your code here!\n",
    "for lr in learning_rates:\n",
    "    for anneal_epoch in anneal_epochs:\n",
    "        for reg in regs:\n",
    "            lenet_model = nn.Sequential(\n",
    "                nn.Conv2d(3, 6, kernel_size=(5, 5)),\n",
    "                nn.MaxPool2d(kernel_size=(2, 2), stride=2),\n",
    "                nn.Tanh(),\n",
    "                nn.Conv2d(6, 16, kernel_size=(5, 5)),\n",
    "                nn.MaxPool2d(kernel_size=(2, 2), stride=2),\n",
    "                nn.Tanh(),\n",
    "                Flattener(),\n",
    "                nn.Linear(16 * 5 * 5, 120),\n",
    "                nn.Tanh(),\n",
    "                nn.Linear(120, 84),\n",
    "                nn.Tanh(),\n",
    "                nn.Linear(84, 10)\n",
    "                )\n",
    "\n",
    "            lenet_model.type(torch.cuda.FloatTensor)\n",
    "            lenet_model.to(device)\n",
    "            \n",
    "            loss = nn.CrossEntropyLoss().type(torch.cuda.FloatTensor)\n",
    "\n",
    "            params = Hyperparams(lr, anneal_epoch, reg)\n",
    "            optimizer = optim.SGD(lenet_model.parameters(), lr=lr, weight_decay=reg)\n",
    "            scheduler = optim.lr_scheduler.StepLR(optimizer, step_size=anneal_epoch, gamma=anneal_coeff)\n",
    "\n",
    "            loss_history, train_history, val_history = train_model(lenet_model, train_aug_loader, val_loader, loss, optimizer, epoch_num, scheduler)\n",
    "            \n",
    "            result = RunResult(lenet_model, train_history, val_history, val_history[-1])\n",
    "            run_record[params] = result"
   ]
  },
  {
   "cell_type": "code",
   "execution_count": 18,
   "metadata": {
    "colab": {
     "base_uri": "https://localhost:8080/"
    },
    "executionInfo": {
     "elapsed": 561,
     "status": "ok",
     "timestamp": 1648899554128,
     "user": {
      "displayName": "Dilshod Nozimov",
      "userId": "03283839926136605754"
     },
     "user_tz": -420
    },
    "id": "Y6xExdw8JB1l",
    "outputId": "da6e46e6-5b83-44fd-a896-b7a894b3a252"
   },
   "outputs": [
    {
     "name": "stdout",
     "output_type": "stream",
     "text": [
      "Best validation accuracy: 0.88, best hyperparams: Hyperparams(learning_rate=0.1, anneal_epochs=2, reg=1e-05)\n"
     ]
    }
   ],
   "source": [
    "best_val_accuracy = None\n",
    "best_hyperparams = None\n",
    "best_run = None\n",
    "\n",
    "for hyperparams, run_result in run_record.items():\n",
    "    if best_val_accuracy is None or best_val_accuracy < run_result.final_val_accuracy:\n",
    "        best_val_accuracy = run_result.final_val_accuracy\n",
    "        best_hyperparams = hyperparams\n",
    "        best_run = run_result\n",
    "        \n",
    "print(\"Best validation accuracy: %4.2f, best hyperparams: %s\" % (best_val_accuracy, best_hyperparams))\n",
    "        "
   ]
  },
  {
   "cell_type": "markdown",
   "metadata": {
    "id": "LOmsR0uVgtgf"
   },
   "source": [
    "# Свободное упражнение - догоним и перегоним LeNet!\n",
    "\n",
    "Попробуйте найти архитектуру и настройки тренировки, чтобы выступить лучше наших бейзлайнов.\n",
    "\n",
    "Что можно и нужно попробовать:\n",
    "- BatchNormalization (для convolution layers он в PyTorch называется [batchnorm2d](https://pytorch.org/docs/stable/nn.html#batchnorm2d))\n",
    "- Изменить количество слоев и их толщину\n",
    "- Изменять количество эпох тренировки\n",
    "- Попробовать и другие агментации"
   ]
  },
  {
   "cell_type": "code",
   "execution_count": null,
   "metadata": {
    "id": "tSVhD747icoc"
   },
   "outputs": [],
   "source": [
    "best_model=None"
   ]
  },
  {
   "cell_type": "markdown",
   "metadata": {
    "id": "ubeKgBcnhx7N"
   },
   "source": [
    "# Финальный аккорд - проверим лучшую модель на test set\n",
    "\n",
    "В качестве разнообразия - напишите код для прогона модели на test set вы.\n",
    "\n",
    "В результате вы должны натренировать модель, которая покажет более **90%** точности на test set.  \n",
    "Как водится, лучший результат в группе получит дополнительные баллы!"
   ]
  },
  {
   "cell_type": "code",
   "execution_count": null,
   "metadata": {
    "id": "BfH6qip6kVX_"
   },
   "outputs": [],
   "source": []
  }
 ],
 "metadata": {
  "accelerator": "GPU",
  "colab": {
   "collapsed_sections": [],
   "name": "PyTorch_CNN.ipynb",
   "provenance": []
  },
  "kernelspec": {
   "display_name": "Python 3 (ipykernel)",
   "language": "python",
   "name": "python3"
  },
  "language_info": {
   "codemirror_mode": {
    "name": "ipython",
    "version": 3
   },
   "file_extension": ".py",
   "mimetype": "text/x-python",
   "name": "python",
   "nbconvert_exporter": "python",
   "pygments_lexer": "ipython3",
   "version": "3.9.10"
  }
 },
 "nbformat": 4,
 "nbformat_minor": 1
}
